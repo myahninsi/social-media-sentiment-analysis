{
 "cells": [
  {
   "cell_type": "markdown",
   "metadata": {},
   "source": [
    "# Import Libraries"
   ]
  },
  {
   "cell_type": "code",
   "execution_count": 1,
   "metadata": {},
   "outputs": [],
   "source": [
    "# Import the libraries\n",
    "import pandas as pd\n",
    "import nltk\n",
    "from nltk.tokenize import word_tokenize\n",
    "from nltk.corpus import stopwords\n",
    "from nltk.stem import WordNetLemmatizer\n",
    "from nltk.corpus import wordnet\n",
    "from nltk.sentiment import SentimentIntensityAnalyzer\n",
    "import emoji\n",
    "import contractions\n",
    "from textblob import TextBlob\n",
    "import string\n",
    "from sklearn.feature_extraction.text import CountVectorizer, TfidfVectorizer\n",
    "from sklearn.model_selection import train_test_split\n",
    "from sklearn.preprocessing import LabelEncoder\n",
    "from sklearn.naive_bayes import MultinomialNB\n",
    "from sklearn.svm import SVC\n",
    "from sklearn.metrics import accuracy_score, precision_score, recall_score, f1_score, classification_report, confusion_matrix\n",
    "import matplotlib.pyplot as plt\n",
    "import seaborn as sns"
   ]
  },
  {
   "cell_type": "markdown",
   "metadata": {},
   "source": [
    "# Load Data"
   ]
  },
  {
   "cell_type": "code",
   "execution_count": 2,
   "metadata": {},
   "outputs": [
    {
     "name": "stdout",
     "output_type": "stream",
     "text": [
      "   Unnamed: 0.1  Unnamed: 0  \\\n",
      "0             0           0   \n",
      "1             1           1   \n",
      "2             2           2   \n",
      "3             3           3   \n",
      "4             4           4   \n",
      "\n",
      "                                                Text    Sentiment  \\\n",
      "0   Enjoying a beautiful day at the park!        ...   Positive     \n",
      "1   Traffic was terrible this morning.           ...   Negative     \n",
      "2   Just finished an amazing workout! 💪          ...   Positive     \n",
      "3   Excited about the upcoming weekend getaway!  ...   Positive     \n",
      "4   Trying out a new recipe for dinner tonight.  ...   Neutral      \n",
      "\n",
      "             Timestamp            User     Platform  \\\n",
      "0  2023-01-15 12:30:00   User123          Twitter     \n",
      "1  2023-01-15 08:45:00   CommuterX        Twitter     \n",
      "2  2023-01-15 15:45:00   FitnessFan      Instagram    \n",
      "3  2023-01-15 18:20:00   AdventureX       Facebook    \n",
      "4  2023-01-15 19:55:00   ChefCook        Instagram    \n",
      "\n",
      "                                     Hashtags  Retweets  Likes       Country  \\\n",
      "0   #Nature #Park                                  15.0   30.0     USA         \n",
      "1   #Traffic #Morning                               5.0   10.0     Canada      \n",
      "2   #Fitness #Workout                              20.0   40.0   USA           \n",
      "3   #Travel #Adventure                              8.0   15.0     UK          \n",
      "4   #Cooking #Food                                 12.0   25.0    Australia    \n",
      "\n",
      "   Year  Month  Day  Hour  \n",
      "0  2023      1   15    12  \n",
      "1  2023      1   15     8  \n",
      "2  2023      1   15    15  \n",
      "3  2023      1   15    18  \n",
      "4  2023      1   15    19  \n"
     ]
    }
   ],
   "source": [
    "# Load dataset\n",
    "df = pd.read_csv(\"dataset\\\\sentimentdataset.csv\")\n",
    "print(df.head())"
   ]
  },
  {
   "cell_type": "code",
   "execution_count": 3,
   "metadata": {},
   "outputs": [
    {
     "data": {
      "text/plain": [
       "array([' Positive  ', ' Negative  ', ' Neutral   ', ' Anger        ',\n",
       "       ' Fear         ', ' Sadness      ', ' Disgust      ',\n",
       "       ' Happiness    ', ' Joy          ', ' Love         ',\n",
       "       ' Amusement    ', ' Enjoyment    ', ' Admiration   ',\n",
       "       ' Affection    ', ' Awe          ', ' Disappointed ',\n",
       "       ' Surprise     ', ' Acceptance   ', ' Adoration    ',\n",
       "       ' Anticipation ', ' Bitter       ', ' Calmness     ',\n",
       "       ' Confusion    ', ' Excitement   ', ' Kind         ',\n",
       "       ' Pride        ', ' Shame        ', ' Confusion ', ' Excitement ',\n",
       "       ' Shame ', ' Elation       ', ' Euphoria      ', ' Contentment   ',\n",
       "       ' Serenity      ', ' Gratitude     ', ' Hope          ',\n",
       "       ' Empowerment   ', ' Compassion    ', ' Tenderness    ',\n",
       "       ' Arousal       ', ' Enthusiasm    ', ' Fulfillment  ',\n",
       "       ' Reverence     ', ' Compassion', ' Fulfillment   ', ' Reverence ',\n",
       "       ' Elation   ', ' Despair         ', ' Grief           ',\n",
       "       ' Loneliness      ', ' Jealousy        ', ' Resentment      ',\n",
       "       ' Frustration     ', ' Boredom         ', ' Anxiety         ',\n",
       "       ' Intimidation    ', ' Helplessness    ', ' Envy            ',\n",
       "       ' Regret         ', ' Disgust         ', ' Despair      ',\n",
       "       ' Loneliness ', ' Frustration ', ' Anxiety   ', ' Intimidation ',\n",
       "       ' Helplessness ', ' Jealousy    ', ' Curiosity       ',\n",
       "       ' Indifference    ', ' Confusion       ', ' Numbness        ',\n",
       "       ' Melancholy      ', ' Nostalgia       ', ' Ambivalence     ',\n",
       "       ' Acceptance      ', ' Determination   ', ' Serenity        ',\n",
       "       ' Numbness ', ' Zest ', ' Contentment ', ' Hopeful ', ' Proud ',\n",
       "       ' Grateful ', ' Empathetic ', ' Compassionate ', ' Playful ',\n",
       "       ' Free-spirited ', ' Inspired ', ' Confident ', ' Serenity ',\n",
       "       ' Curiosity ', ' Ambivalence ', ' Despair ', ' Bitterness ',\n",
       "       ' Yearning ', ' Fearful ', ' Apprehensive ', ' Overwhelmed ',\n",
       "       ' Jealous ', ' Devastated ', ' Frustrated ', ' Envious ',\n",
       "       ' Dismissive ', ' Awe           ', ' Determination ',\n",
       "       ' Nostalgia      ', ' Thrill        ', ' Calmness      ',\n",
       "       ' Overwhelmed   ', ' Gratitude   ', ' Bittersweet ',\n",
       "       ' Curiosity     ', ' Admiration    ', ' Overjoyed     ',\n",
       "       ' Inspiration   ', ' Motivation    ', ' Amusement     ',\n",
       "       ' Contemplation ', ' JoyfulReunion ', ' Excitement    ',\n",
       "       ' Satisfaction  ', ' Blessed       ', ' Anticipation  ',\n",
       "       ' Reflection    ', ' Nostalgia     ', ' Appreciation  ',\n",
       "       ' Confidence    ', ' Surprise      ', ' Accomplishment ',\n",
       "       ' Wonderment    ', ' Optimism      ', ' Pride         ',\n",
       "       ' Happiness     ', ' Curiosity   ', ' Enchantment   ',\n",
       "       ' Intrigue      ', ' PlayfulJoy    ', ' Mindfulness   ',\n",
       "       ' DreamChaser   ', ' Elegance ', ' Whimsy        ', ' Pensive ',\n",
       "       ' Thrill      ', ' Harmony    ', ' Creativity   ', ' Radiance    ',\n",
       "       ' Wonder     ', ' Rejuvenation ', ' Inspiration ',\n",
       "       ' Coziness     ', ' Gratitude  ', ' Adventure ', ' Euphoria   ',\n",
       "       ' Awe    ', ' Melodic       ', ' FestiveJoy    ',\n",
       "       ' InnerJourney  ', ' Freedom       ', ' Dazzle        ',\n",
       "       ' Adrenaline     ', ' Harmony       ', ' ArtisticBurst ',\n",
       "       ' Radiance      ', ' Wonder       ', ' Inspiration  ',\n",
       "       ' CulinaryOdyssey ', ' Euphoria     ', ' Curiosity  ',\n",
       "       ' Resilience   ', ' Immersion ', ' Nostalgia ', ' Spark        ',\n",
       "       ' Gratitude    ', ' Marvel       ', ' Serenity   ',\n",
       "       ' Heartbreak    ', ' Loneliness    ', ' Grief      ',\n",
       "       ' Despair   ', ' Betrayal      ', ' Suffering ',\n",
       "       ' EmotionalStorm ', ' Regret        ', ' Isolation ',\n",
       "       ' Disappointment ', ' LostLove ', ' Melancholy ', ' Exhaustion ',\n",
       "       ' Sorrow      ', ' Darkness     ', ' Desperation ', ' Ruins      ',\n",
       "       ' Desolation ', ' Regret ', ' Grief ', ' Heartbreak ',\n",
       "       ' Betrayal ', ' Resilience ', ' Sorrow ', ' Loss ', ' Heartache ',\n",
       "       ' Solitude ', ' Joy ', ' Happiness ', ' Enthusiasm ',\n",
       "       ' Gratitude ', ' Positivity ', ' Kindness ', ' Friendship ',\n",
       "       ' Love ', ' Surprise ', ' Success ', ' Thrill ', ' Reflection ',\n",
       "       ' Enchantment ', ' Exploration ', ' Awe ', ' Amazement ',\n",
       "       ' Romance ', ' Captivation ', ' Wonder ', ' Tranquility ',\n",
       "       ' Grandeur ', ' Emotion ', ' Energy ', ' Celebration ', ' Charm ',\n",
       "       ' Ecstasy ', ' Hope ', ' Creativity ', ' Colorful ', ' Pride ',\n",
       "       ' Hypnotic ', ' Connection ', ' Iconic ', ' Euphoria ',\n",
       "       ' Journey ', ' Engagement ', ' Touched ', ' Suspense ',\n",
       "       ' Satisfaction ', ' Admiration ', ' Triumph ', ' Heartwarming ',\n",
       "       ' Obstacle ', ' Sympathy ', ' Pressure ', ' Renewed Effort ',\n",
       "       ' Miscalculation ', ' Challenge ', ' Solace ', ' Breakthrough ',\n",
       "       ' Harmony ', ' Joy in Baking ', ' Envisioning History ',\n",
       "       ' Imagination ', ' Vibrancy ', ' Mesmerizing ',\n",
       "       ' Culinary Adventure ', ' Winter Magic ', ' Thrilling Journey ',\n",
       "       \" Nature's Beauty \", ' Celestial Wonder ',\n",
       "       ' Creative Inspiration ', ' Runway Creativity ',\n",
       "       \" Ocean's Freedom \", ' Whispers of the Past ', ' Boredom ',\n",
       "       ' Indifference ', ' Disgust ', ' Relief ', ' Positive ',\n",
       "       ' Embarrassed ', ' Mischievous ', ' Sad ', ' Hate ', ' Bad ',\n",
       "       ' Neutral ', ' Happy '], dtype=object)"
      ]
     },
     "execution_count": 3,
     "metadata": {},
     "output_type": "execute_result"
    }
   ],
   "source": [
    "# Analyze the Sentiment column\n",
    "df['Sentiment'].unique()"
   ]
  },
  {
   "cell_type": "code",
   "execution_count": 4,
   "metadata": {},
   "outputs": [],
   "source": [
    "# Strip spaces and convert to lowercase\n",
    "df['Sentiment'] = df['Sentiment'].astype(str).str.strip().str.lower()"
   ]
  },
  {
   "cell_type": "code",
   "execution_count": 5,
   "metadata": {},
   "outputs": [
    {
     "name": "stdout",
     "output_type": "stream",
     "text": [
      "Sentiment\n",
      "Positive    378\n",
      "Negative    183\n",
      "Neutral     171\n",
      "Name: count, dtype: int64\n"
     ]
    },
    {
     "name": "stderr",
     "output_type": "stream",
     "text": [
      "[nltk_data] Downloading package vader_lexicon to\n",
      "[nltk_data]     C:\\Users\\Home\\AppData\\Roaming\\nltk_data...\n",
      "[nltk_data]   Package vader_lexicon is already up-to-date!\n"
     ]
    }
   ],
   "source": [
    "# Download the necessary nltk data\n",
    "nltk.download('vader_lexicon')\n",
    "\n",
    "# Initialize VADER\n",
    "sia = SentimentIntensityAnalyzer()\n",
    "\n",
    "# Define function to categorize sentiments into Positive, Negative, or Neutral\n",
    "def categorize_sentiment(text):\n",
    "    score = sia.polarity_scores(str(text))['compound']\n",
    "    if score >= 0.05:\n",
    "        return \"Positive\"\n",
    "    elif score <= -0.05:\n",
    "        return \"Negative\"\n",
    "    else:\n",
    "        return \"Neutral\"\n",
    "\n",
    "# Apply to the dataframe\n",
    "df['Sentiment'] = df['Sentiment'].apply(categorize_sentiment)\n",
    "\n",
    "# Display updated Sentiment column\n",
    "print(df['Sentiment'].value_counts())"
   ]
  },
  {
   "cell_type": "code",
   "execution_count": 6,
   "metadata": {},
   "outputs": [
    {
     "data": {
      "text/plain": [
       "array(['Positive', 'Negative', 'Neutral'], dtype=object)"
      ]
     },
     "execution_count": 6,
     "metadata": {},
     "output_type": "execute_result"
    }
   ],
   "source": [
    "# Confirm the updated unique values\n",
    "df['Sentiment'].unique()"
   ]
  },
  {
   "cell_type": "markdown",
   "metadata": {},
   "source": [
    "# Text Preprocessing"
   ]
  },
  {
   "cell_type": "code",
   "execution_count": 7,
   "metadata": {},
   "outputs": [
    {
     "name": "stdout",
     "output_type": "stream",
     "text": [
      "0     Enjoying a beautiful day at the park!        ...\n",
      "1     Traffic was terrible this morning.           ...\n",
      "2     Just finished an amazing workout! 💪          ...\n",
      "3     Excited about the upcoming weekend getaway!  ...\n",
      "4     Trying out a new recipe for dinner tonight.  ...\n",
      "Name: Text, dtype: object\n"
     ]
    }
   ],
   "source": [
    "# Remove unnecessary columns\n",
    "df = df.drop(columns=['Unnamed: 0', 'Unnamed: 0.1', 'Timestamp'], errors='ignore')\n",
    "\n",
    "# Display the text column\n",
    "print(df['Text'].head())"
   ]
  },
  {
   "cell_type": "markdown",
   "metadata": {},
   "source": [
    "### Tokenization (Split text into words)"
   ]
  },
  {
   "cell_type": "code",
   "execution_count": 8,
   "metadata": {},
   "outputs": [
    {
     "name": "stderr",
     "output_type": "stream",
     "text": [
      "[nltk_data] Downloading package punkt to\n",
      "[nltk_data]     C:\\Users\\Home\\AppData\\Roaming\\nltk_data...\n",
      "[nltk_data]   Package punkt is already up-to-date!\n"
     ]
    },
    {
     "name": "stdout",
     "output_type": "stream",
     "text": [
      "0      [enjoying, a, beautiful, day, at, the, park, !]\n",
      "1           [traffic, was, terrible, this, morning, .]\n",
      "2         [just, finished, an, amazing, workout, !, 💪]\n",
      "3    [excited, about, the, upcoming, weekend, getaw...\n",
      "4    [trying, out, a, new, recipe, for, dinner, ton...\n",
      "Name: Tokenized_Text, dtype: object\n"
     ]
    }
   ],
   "source": [
    "nltk.download('punkt')\n",
    "\n",
    "# Define function to tokenize text\n",
    "def tokenize_text(text):\n",
    "    return word_tokenize(text.lower())\n",
    "\n",
    "# Create a new column\n",
    "df['Tokenized_Text'] = df['Text'].apply(tokenize_text)\n",
    "\n",
    "# Display the updated column\n",
    "print(df['Tokenized_Text'].head())"
   ]
  },
  {
   "cell_type": "markdown",
   "metadata": {},
   "source": [
    "### Stopword Removal"
   ]
  },
  {
   "cell_type": "code",
   "execution_count": 9,
   "metadata": {},
   "outputs": [
    {
     "name": "stdout",
     "output_type": "stream",
     "text": [
      "0          [enjoying, beautiful, day, park, !]\n",
      "1              [traffic, terrible, morning, .]\n",
      "2           [finished, amazing, workout, !, 💪]\n",
      "3     [excited, upcoming, weekend, getaway, !]\n",
      "4    [trying, new, recipe, dinner, tonight, .]\n",
      "Name: No_Stopwords, dtype: object\n"
     ]
    },
    {
     "name": "stderr",
     "output_type": "stream",
     "text": [
      "[nltk_data] Downloading package stopwords to\n",
      "[nltk_data]     C:\\Users\\Home\\AppData\\Roaming\\nltk_data...\n",
      "[nltk_data]   Package stopwords is already up-to-date!\n"
     ]
    }
   ],
   "source": [
    "nltk.download('stopwords')\n",
    "stop_words = set(stopwords.words('english'))\n",
    "\n",
    "# Define function to remove stopwords\n",
    "def remove_stopwords(tokens):\n",
    "    return [word for word in tokens if word not in stop_words]\n",
    "\n",
    "# Create a new column\n",
    "df['No_Stopwords'] = df['Tokenized_Text'].apply(remove_stopwords)\n",
    "\n",
    "# Display the updated column\n",
    "print(df['No_Stopwords'].head())"
   ]
  },
  {
   "cell_type": "markdown",
   "metadata": {},
   "source": [
    "### Lemmatization (Reduce words to their base form)"
   ]
  },
  {
   "cell_type": "code",
   "execution_count": 10,
   "metadata": {},
   "outputs": [
    {
     "name": "stderr",
     "output_type": "stream",
     "text": [
      "[nltk_data] Downloading package wordnet to\n",
      "[nltk_data]     C:\\Users\\Home\\AppData\\Roaming\\nltk_data...\n",
      "[nltk_data]   Package wordnet is already up-to-date!\n",
      "[nltk_data] Downloading package averaged_perceptron_tagger to\n",
      "[nltk_data]     C:\\Users\\Home\\AppData\\Roaming\\nltk_data...\n",
      "[nltk_data]   Package averaged_perceptron_tagger is already up-to-\n",
      "[nltk_data]       date!\n"
     ]
    },
    {
     "name": "stdout",
     "output_type": "stream",
     "text": [
      "0           [enjoy, beautiful, day, park, !]\n",
      "1            [traffic, terrible, morning, .]\n",
      "2             [finish, amaze, workout, !, 💪]\n",
      "3    [excite, upcoming, weekend, getaway, !]\n",
      "4     [try, new, recipe, dinner, tonight, .]\n",
      "Name: Lemmatized_Text, dtype: object\n"
     ]
    }
   ],
   "source": [
    "nltk.download('wordnet')\n",
    "nltk.download('averaged_perceptron_tagger')\n",
    "\n",
    "lemmatizer = WordNetLemmatizer()\n",
    "\n",
    "# Function to get POS tag for better lemmatization\n",
    "def get_wordnet_pos(word):\n",
    "    tag = nltk.pos_tag([word])[0][1][0].upper()  # Get first letter of POS tag\n",
    "    tag_dict = {\"J\": wordnet.ADJ, \"N\": wordnet.NOUN, \"V\": wordnet.VERB, \"R\": wordnet.ADV}\n",
    "    return tag_dict.get(tag, wordnet.NOUN)  # Default to NOUN if not found\n",
    "\n",
    "# Lemmatization with POS tagging\n",
    "def lemmatize_words(tokens):\n",
    "    return [lemmatizer.lemmatize(word, get_wordnet_pos(word)) for word in tokens]\n",
    "\n",
    "df['Lemmatized_Text'] = df['No_Stopwords'].apply(lemmatize_words)\n",
    "\n",
    "# Display the updated column\n",
    "print(df['Lemmatized_Text'].head())"
   ]
  },
  {
   "cell_type": "markdown",
   "metadata": {},
   "source": [
    "### Handle Noisy Content (Remove emojis, abbreviations, slang, and punctuations)"
   ]
  },
  {
   "cell_type": "code",
   "execution_count": 11,
   "metadata": {},
   "outputs": [
    {
     "name": "stdout",
     "output_type": "stream",
     "text": [
      "                           Lemmatized_Text  \\\n",
      "0         [enjoy, beautiful, day, park, !]   \n",
      "1          [traffic, terrible, morning, .]   \n",
      "2           [finish, amaze, workout, !, 💪]   \n",
      "3  [excite, upcoming, weekend, getaway, !]   \n",
      "4   [try, new, recipe, dinner, tonight, .]   \n",
      "\n",
      "                          Cleaned_Text  \n",
      "0        [enjoy, beautiful, day, park]  \n",
      "1         [traffic, terrible, morning]  \n",
      "2            [finish, amazed, lookout]  \n",
      "3   [excite, coming, weekend, gateway]  \n",
      "4  [try, new, recipe, dinner, tonight]  \n"
     ]
    }
   ],
   "source": [
    "# Define function to clean noisy content\n",
    "def clean_noisy_text(tokens):\n",
    "    cleaned_tokens = []\n",
    "    \n",
    "    for word in tokens:\n",
    "        word = emoji.replace_emoji(word, replace=\"\")  # Remove emojis\n",
    "        word = contractions.fix(word)  # Expand contractions\n",
    "        word = str(TextBlob(word).correct())  # Correct slang/abbreviations\n",
    "        \n",
    "        if word not in string.punctuation:  # Remove punctuation\n",
    "            cleaned_tokens.append(word)\n",
    "    \n",
    "    return [word for word in cleaned_tokens if word]  # Remove empty words\n",
    "\n",
    "# Apply the function to the 'Lemmatized_Text' column\n",
    "df['Cleaned_Text'] = df['Lemmatized_Text'].apply(clean_noisy_text)\n",
    "\n",
    "# Display the updated column\n",
    "print(df[['Lemmatized_Text', 'Cleaned_Text']].head())"
   ]
  },
  {
   "cell_type": "code",
   "execution_count": 12,
   "metadata": {},
   "outputs": [
    {
     "name": "stdout",
     "output_type": "stream",
     "text": [
      "Preprocessing complete. Saved as 'cleaned_dataset.csv'.\n"
     ]
    }
   ],
   "source": [
    "# Save the cleaned dataset\n",
    "df.to_csv(\"dataset\\\\cleaned_dataset.csv\", index=False)\n",
    "\n",
    "print(\"Preprocessing complete. Saved as 'cleaned_dataset.csv'.\")"
   ]
  },
  {
   "cell_type": "markdown",
   "metadata": {},
   "source": [
    "# Feature Extraction"
   ]
  },
  {
   "cell_type": "code",
   "execution_count": 13,
   "metadata": {},
   "outputs": [
    {
     "name": "stdout",
     "output_type": "stream",
     "text": [
      "   ablaze  abstract  abyss  academic  acceptance  accepts  accidentally  \\\n",
      "0       0         0      0         0           0        0             0   \n",
      "1       0         0      0         0           0        0             0   \n",
      "2       0         0      0         0           0        0             0   \n",
      "3       0         0      0         0           0        0             0   \n",
      "4       0         0      0         0           0        0             0   \n",
      "\n",
      "   accomplish  accomplishment  ache  ...  wrong  year  yearbook  years  yet  \\\n",
      "0           0               0     0  ...      0     0         0      0    0   \n",
      "1           0               0     0  ...      0     0         0      0    0   \n",
      "2           0               0     0  ...      0     0         0      0    0   \n",
      "3           0               0     0  ...      0     0         0      0    0   \n",
      "4           0               0     0  ...      0     0         0      0    0   \n",
      "\n",
      "   york  young  zen  zero  zest  \n",
      "0     0      0    0     0     0  \n",
      "1     0      0    0     0     0  \n",
      "2     0      0    0     0     0  \n",
      "3     0      0    0     0     0  \n",
      "4     0      0    0     0     0  \n",
      "\n",
      "[5 rows x 2064 columns]\n",
      "   ablaze  abstract  abyss  academic  acceptance  accepts  accidentally  \\\n",
      "0     0.0       0.0    0.0       0.0         0.0      0.0           0.0   \n",
      "1     0.0       0.0    0.0       0.0         0.0      0.0           0.0   \n",
      "2     0.0       0.0    0.0       0.0         0.0      0.0           0.0   \n",
      "3     0.0       0.0    0.0       0.0         0.0      0.0           0.0   \n",
      "4     0.0       0.0    0.0       0.0         0.0      0.0           0.0   \n",
      "\n",
      "   accomplish  accomplishment  ache  ...  wrong  year  yearbook  years  yet  \\\n",
      "0         0.0             0.0   0.0  ...    0.0   0.0       0.0    0.0  0.0   \n",
      "1         0.0             0.0   0.0  ...    0.0   0.0       0.0    0.0  0.0   \n",
      "2         0.0             0.0   0.0  ...    0.0   0.0       0.0    0.0  0.0   \n",
      "3         0.0             0.0   0.0  ...    0.0   0.0       0.0    0.0  0.0   \n",
      "4         0.0             0.0   0.0  ...    0.0   0.0       0.0    0.0  0.0   \n",
      "\n",
      "   york  young  zen  zero  zest  \n",
      "0   0.0    0.0  0.0   0.0   0.0  \n",
      "1   0.0    0.0  0.0   0.0   0.0  \n",
      "2   0.0    0.0  0.0   0.0   0.0  \n",
      "3   0.0    0.0  0.0   0.0   0.0  \n",
      "4   0.0    0.0  0.0   0.0   0.0  \n",
      "\n",
      "[5 rows x 2064 columns]\n"
     ]
    }
   ],
   "source": [
    "# Function for Bag of Words (BoW) feature extraction\n",
    "def extract_bow_features(text_data):\n",
    "    \"\"\"\n",
    "    Converts text data into a Bag of Words (BoW) representation.\n",
    "    Returns: BoW feature matrix (DataFrame)\n",
    "    \"\"\"\n",
    "    vectorizer = CountVectorizer()\n",
    "    bow_matrix = vectorizer.fit_transform(text_data)\n",
    "    bow_df = pd.DataFrame(bow_matrix.toarray(), columns=vectorizer.get_feature_names_out())\n",
    "    return bow_df\n",
    "\n",
    "# Function for TF-IDF feature extraction\n",
    "def extract_tfidf_features(text_data):\n",
    "    \"\"\"\n",
    "    Converts text data into TF-IDF representation.\n",
    "    Returns: TF-IDF feature matrix (DataFrame)\n",
    "    \"\"\"\n",
    "    vectorizer = TfidfVectorizer()\n",
    "    tfidf_matrix = vectorizer.fit_transform(text_data)\n",
    "    tfidf_df = pd.DataFrame(tfidf_matrix.toarray(), columns=vectorizer.get_feature_names_out())\n",
    "    return tfidf_df\n",
    "\n",
    "# Convert tokenized lists back to text\n",
    "df['Processed_Text'] = df['Cleaned_Text'].apply(lambda x: ' '.join(x))\n",
    "\n",
    "# Apply BoW & TF-IDF using functions\n",
    "bow_df = extract_bow_features(df['Processed_Text'])\n",
    "tfidf_df = extract_tfidf_features(df['Processed_Text'])\n",
    "\n",
    "# Display the results\n",
    "print(bow_df.head())\n",
    "print(tfidf_df.head())"
   ]
  },
  {
   "cell_type": "markdown",
   "metadata": {},
   "source": [
    "# Model Training"
   ]
  },
  {
   "cell_type": "markdown",
   "metadata": {},
   "source": [
    "### Prepare Data for Training"
   ]
  },
  {
   "cell_type": "code",
   "execution_count": 14,
   "metadata": {},
   "outputs": [
    {
     "name": "stdout",
     "output_type": "stream",
     "text": [
      "0    2\n",
      "1    0\n",
      "2    2\n",
      "3    2\n",
      "4    1\n",
      "Name: Sentiment_Label, dtype: int32\n"
     ]
    }
   ],
   "source": [
    "# Encode sentiment labels (Convert categorical labels into numeric)\n",
    "label_encoder = LabelEncoder()\n",
    "df['Sentiment_Label'] = label_encoder.fit_transform(df['Sentiment'])  # Convert \"Positive\", \"Negative\", \"Neutral\" → 0, 1, 2\n",
    "\n",
    "# Display the updated column\n",
    "print(df['Sentiment_Label'].head())"
   ]
  },
  {
   "cell_type": "code",
   "execution_count": 15,
   "metadata": {},
   "outputs": [],
   "source": [
    "# Define features and target\n",
    "X_bow, X_tfidf = bow_df, tfidf_df\n",
    "y = df['Sentiment_Label']\n",
    "\n",
    "# Split data into train and test (80-20)\n",
    "X_train_bow, X_test_bow, y_train, y_test = train_test_split(X_bow, y, test_size=0.2, random_state=42)\n",
    "X_train_tfidf, X_test_tfidf, _, _ = train_test_split(X_tfidf, y, test_size=0.2, random_state=42)"
   ]
  },
  {
   "cell_type": "markdown",
   "metadata": {},
   "source": [
    "### Train Naive Bayes"
   ]
  },
  {
   "cell_type": "code",
   "execution_count": 16,
   "metadata": {},
   "outputs": [],
   "source": [
    "# Train Naive Bayes on BoW features\n",
    "nb_bow = MultinomialNB()\n",
    "nb_bow.fit(X_train_bow, y_train)\n",
    "y_pred_nb_bow = nb_bow.predict(X_test_bow)\n",
    "\n",
    "# Train Naive Bayes on TF-IDF features\n",
    "nb_tfidf = MultinomialNB()\n",
    "nb_tfidf.fit(X_train_tfidf, y_train)\n",
    "y_pred_nb_tfidf = nb_tfidf.predict(X_test_tfidf)"
   ]
  },
  {
   "cell_type": "markdown",
   "metadata": {},
   "source": [
    "### Train SVM"
   ]
  },
  {
   "cell_type": "code",
   "execution_count": 17,
   "metadata": {},
   "outputs": [],
   "source": [
    "# Train SVM on BoW features\n",
    "svm_bow = SVC(kernel='linear')\n",
    "svm_bow.fit(X_train_bow, y_train)\n",
    "y_pred_svm_bow = svm_bow.predict(X_test_bow)\n",
    "\n",
    "# Train SVM on TF-IDF features\n",
    "svm_tfidf = SVC(kernel='linear')\n",
    "svm_tfidf.fit(X_train_tfidf, y_train)\n",
    "y_pred_svm_tfidf = svm_tfidf.predict(X_test_tfidf)"
   ]
  },
  {
   "cell_type": "markdown",
   "metadata": {},
   "source": [
    "# Model Evaluation"
   ]
  },
  {
   "cell_type": "code",
   "execution_count": 18,
   "metadata": {},
   "outputs": [
    {
     "name": "stdout",
     "output_type": "stream",
     "text": [
      "Naive Bayes (BoW) Performance:\n",
      "Accuracy: 0.7210884353741497\n",
      "Precision: 0.7111866969009827\n",
      "Recall: 0.7210884353741497\n",
      "F1-Score: 0.7120620064932952\n",
      "\n",
      "Classification Report:\n",
      "               precision    recall  f1-score   support\n",
      "\n",
      "           0       0.80      0.86      0.83        42\n",
      "           1       0.60      0.45      0.51        40\n",
      "           2       0.72      0.80      0.76        65\n",
      "\n",
      "    accuracy                           0.72       147\n",
      "   macro avg       0.71      0.70      0.70       147\n",
      "weighted avg       0.71      0.72      0.71       147\n",
      "\n"
     ]
    }
   ],
   "source": [
    "# Evaluate Naive Bayes (BoW)\n",
    "print(\"Naive Bayes (BoW) Performance:\")\n",
    "print(\"Accuracy:\", accuracy_score(y_test, y_pred_nb_bow))\n",
    "print(\"Precision:\", precision_score(y_test, y_pred_nb_bow, average='weighted'))\n",
    "print(\"Recall:\", recall_score(y_test, y_pred_nb_bow, average='weighted'))\n",
    "print(\"F1-Score:\", f1_score(y_test, y_pred_nb_bow, average='weighted'))\n",
    "print(\"\\nClassification Report:\\n\", classification_report(y_test, y_pred_nb_bow))"
   ]
  },
  {
   "cell_type": "code",
   "execution_count": 19,
   "metadata": {},
   "outputs": [
    {
     "name": "stdout",
     "output_type": "stream",
     "text": [
      "Naive Bayes (TF-IDF) Performance:\n",
      "Accuracy: 0.6258503401360545\n",
      "Precision: 0.7506063294883171\n",
      "Recall: 0.6258503401360545\n",
      "F1-Score: 0.5709793532458324\n",
      "\n",
      "Classification Report:\n",
      "               precision    recall  f1-score   support\n",
      "\n",
      "           0       0.80      0.48      0.60        42\n",
      "           1       1.00      0.17      0.30        40\n",
      "           2       0.57      1.00      0.72        65\n",
      "\n",
      "    accuracy                           0.63       147\n",
      "   macro avg       0.79      0.55      0.54       147\n",
      "weighted avg       0.75      0.63      0.57       147\n",
      "\n"
     ]
    }
   ],
   "source": [
    "# Evaluate Naive Bayes (TF-IDF)\n",
    "print(\"Naive Bayes (TF-IDF) Performance:\")\n",
    "print(\"Accuracy:\", accuracy_score(y_test, y_pred_nb_tfidf))\n",
    "print(\"Precision:\", precision_score(y_test, y_pred_nb_tfidf, average='weighted'))\n",
    "print(\"Recall:\", recall_score(y_test, y_pred_nb_tfidf, average='weighted'))\n",
    "print(\"F1-Score:\", f1_score(y_test, y_pred_nb_tfidf, average='weighted'))\n",
    "print(\"\\nClassification Report:\\n\", classification_report(y_test, y_pred_nb_tfidf))"
   ]
  },
  {
   "cell_type": "code",
   "execution_count": 20,
   "metadata": {},
   "outputs": [
    {
     "name": "stdout",
     "output_type": "stream",
     "text": [
      "SVM (BoW) Performance:\n",
      "Accuracy: 0.7210884353741497\n",
      "Precision: 0.7212416498130784\n",
      "Recall: 0.7210884353741497\n",
      "F1-Score: 0.7155390989025708\n",
      "\n",
      "Classification Report:\n",
      "               precision    recall  f1-score   support\n",
      "\n",
      "           0       0.84      0.74      0.78        42\n",
      "           1       0.62      0.50      0.56        40\n",
      "           2       0.71      0.85      0.77        65\n",
      "\n",
      "    accuracy                           0.72       147\n",
      "   macro avg       0.72      0.69      0.70       147\n",
      "weighted avg       0.72      0.72      0.72       147\n",
      "\n"
     ]
    }
   ],
   "source": [
    "# Evaluate SVM (BoW)\n",
    "print(\"SVM (BoW) Performance:\")\n",
    "print(\"Accuracy:\", accuracy_score(y_test, y_pred_svm_bow))\n",
    "print(\"Precision:\", precision_score(y_test, y_pred_svm_bow, average='weighted'))\n",
    "print(\"Recall:\", recall_score(y_test, y_pred_svm_bow, average='weighted'))\n",
    "print(\"F1-Score:\", f1_score(y_test, y_pred_svm_bow, average='weighted'))\n",
    "print(\"\\nClassification Report:\\n\", classification_report(y_test, y_pred_svm_bow))"
   ]
  },
  {
   "cell_type": "code",
   "execution_count": 21,
   "metadata": {},
   "outputs": [
    {
     "name": "stdout",
     "output_type": "stream",
     "text": [
      "SVM (TF-IDF) Performance:\n",
      "Accuracy: 0.7482993197278912\n",
      "Precision: 0.794692705457469\n",
      "Recall: 0.7482993197278912\n",
      "F1-Score: 0.7305695235966775\n",
      "\n",
      "Classification Report:\n",
      "               precision    recall  f1-score   support\n",
      "\n",
      "           0       0.84      0.76      0.80        42\n",
      "           1       0.94      0.40      0.56        40\n",
      "           2       0.67      0.95      0.79        65\n",
      "\n",
      "    accuracy                           0.75       147\n",
      "   macro avg       0.82      0.71      0.72       147\n",
      "weighted avg       0.79      0.75      0.73       147\n",
      "\n"
     ]
    }
   ],
   "source": [
    "# Evaluate SVM (TF-IDF)\n",
    "print(\"SVM (TF-IDF) Performance:\")\n",
    "print(\"Accuracy:\", accuracy_score(y_test, y_pred_svm_tfidf))\n",
    "print(\"Precision:\", precision_score(y_test, y_pred_svm_tfidf, average='weighted'))\n",
    "print(\"Recall:\", recall_score(y_test, y_pred_svm_tfidf, average='weighted'))\n",
    "print(\"F1-Score:\", f1_score(y_test, y_pred_svm_tfidf, average='weighted'))\n",
    "print(\"\\nClassification Report:\\n\", classification_report(y_test, y_pred_svm_tfidf))"
   ]
  },
  {
   "cell_type": "code",
   "execution_count": 22,
   "metadata": {},
   "outputs": [
    {
     "data": {
      "image/png": "[encoded data removed]",
      "text/plain": [
       "<Figure size 600x500 with 2 Axes>"
      ]
     },
     "metadata": {},
     "output_type": "display_data"
    }
   ],
   "source": [
    "# Confusion Matrix for Naive Bayes (BoW)\n",
    "plt.figure(figsize=(6, 5))\n",
    "sns.heatmap(confusion_matrix(y_test, y_pred_nb_bow), annot=True, fmt=\"d\", cmap=\"Blues\", xticklabels=label_encoder.classes_, yticklabels=label_encoder.classes_)\n",
    "plt.xlabel(\"Predicted Label\")\n",
    "plt.ylabel(\"True Label\")\n",
    "plt.title(\"Confusion Matrix: Naive Bayes (BoW)\")\n",
    "plt.show()"
   ]
  },
  {
   "cell_type": "code",
   "execution_count": 23,
   "metadata": {},
   "outputs": [
    {
     "data": {
      "image/png": "[encoded data removed]",
      "text/plain": [
       "<Figure size 600x500 with 2 Axes>"
      ]
     },
     "metadata": {},
     "output_type": "display_data"
    }
   ],
   "source": [
    "# Confusion Matrix for Naive Bayes (TF-IDF)\n",
    "plt.figure(figsize=(6, 5))\n",
    "sns.heatmap(confusion_matrix(y_test, y_pred_nb_tfidf), annot=True, fmt=\"d\", cmap=\"Blues\", xticklabels=label_encoder.classes_, yticklabels=label_encoder.classes_)\n",
    "plt.xlabel(\"Predicted Label\")\n",
    "plt.ylabel(\"True Label\")\n",
    "plt.title(\"Confusion Matrix: Naive Bayes (TF-IDF)\")\n",
    "plt.show()"
   ]
  },
  {
   "cell_type": "code",
   "execution_count": 24,
   "metadata": {},
   "outputs": [
    {
     "data": {
      "image/png": "[encoded data removed]",
      "text/plain": [
       "<Figure size 600x500 with 2 Axes>"
      ]
     },
     "metadata": {},
     "output_type": "display_data"
    }
   ],
   "source": [
    "# Confusion Matrix for SVM (BoW)\n",
    "plt.figure(figsize=(6, 5))\n",
    "sns.heatmap(confusion_matrix(y_test, y_pred_svm_bow), annot=True, fmt=\"d\", cmap=\"Blues\", xticklabels=label_encoder.classes_, yticklabels=label_encoder.classes_)\n",
    "plt.xlabel(\"Predicted Label\")\n",
    "plt.ylabel(\"True Label\")\n",
    "plt.title(\"Confusion Matrix: SVM (BoW)\")\n",
    "plt.show()"
   ]
  },
  {
   "cell_type": "code",
   "execution_count": 25,
   "metadata": {},
   "outputs": [
    {
     "data": {
      "image/png": "[encoded data removed]",
      "text/plain": [
       "<Figure size 600x500 with 2 Axes>"
      ]
     },
     "metadata": {},
     "output_type": "display_data"
    }
   ],
   "source": [
    "# Confusion Matrix for SVM (TF-IDF)\n",
    "plt.figure(figsize=(6, 5))\n",
    "sns.heatmap(confusion_matrix(y_test, y_pred_svm_tfidf), annot=True, fmt=\"d\", cmap=\"Blues\", xticklabels=label_encoder.classes_, yticklabels=label_encoder.classes_)\n",
    "plt.xlabel(\"Predicted Label\")\n",
    "plt.ylabel(\"True Label\")\n",
    "plt.title(\"Confusion Matrix: SVM (TF-IDF)\")\n",
    "plt.show()"
   ]
  }
 ],
 "metadata": {
  "kernelspec": {
   "display_name": "Python 3",
   "language": "python",
   "name": "python3"
  },
  "language_info": {
   "codemirror_mode": {
    "name": "ipython",
    "version": 3
   },
   "file_extension": ".py",
   "mimetype": "text/x-python",
   "name": "python",
   "nbconvert_exporter": "python",
   "pygments_lexer": "ipython3",
   "version": "3.12.4"
  }
 },
 "nbformat": 4,
 "nbformat_minor": 2
}
